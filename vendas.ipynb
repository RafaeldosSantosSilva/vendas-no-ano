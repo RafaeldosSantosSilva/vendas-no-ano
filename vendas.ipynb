{
 "cells": [
  {
   "cell_type": "markdown",
   "metadata": {},
   "source": [
    "Importações para o proojeto"
   ]
  },
  {
   "cell_type": "code",
   "execution_count": 20,
   "metadata": {},
   "outputs": [],
   "source": [
    "import pandas as pd\n",
    "import matplotlib.pyplot as plt\n",
    "import seaborn as sns\n",
    "import glob\n",
    "import numpy as np"
   ]
  },
  {
   "cell_type": "markdown",
   "metadata": {},
   "source": [
    "Trazendo dados do arquivo"
   ]
  },
  {
   "cell_type": "code",
   "execution_count": 21,
   "metadata": {},
   "outputs": [
    {
     "data": {
      "text/html": [
       "<div>\n",
       "<style scoped>\n",
       "    .dataframe tbody tr th:only-of-type {\n",
       "        vertical-align: middle;\n",
       "    }\n",
       "\n",
       "    .dataframe tbody tr th {\n",
       "        vertical-align: top;\n",
       "    }\n",
       "\n",
       "    .dataframe thead th {\n",
       "        text-align: right;\n",
       "    }\n",
       "</style>\n",
       "<table border=\"1\" class=\"dataframe\">\n",
       "  <thead>\n",
       "    <tr style=\"text-align: right;\">\n",
       "      <th></th>\n",
       "      <th>Date</th>\n",
       "      <th>Product</th>\n",
       "      <th>Category</th>\n",
       "      <th>Quantity</th>\n",
       "      <th>Price</th>\n",
       "    </tr>\n",
       "  </thead>\n",
       "  <tbody>\n",
       "    <tr>\n",
       "      <th>0</th>\n",
       "      <td>2024-03-01</td>\n",
       "      <td>Smartphone</td>\n",
       "      <td>Mobile</td>\n",
       "      <td>10.0</td>\n",
       "      <td>599.99</td>\n",
       "    </tr>\n",
       "    <tr>\n",
       "      <th>1</th>\n",
       "      <td>2024-03-01</td>\n",
       "      <td>Laptop</td>\n",
       "      <td>Computers</td>\n",
       "      <td>5.0</td>\n",
       "      <td>999.99</td>\n",
       "    </tr>\n",
       "    <tr>\n",
       "      <th>2</th>\n",
       "      <td>2024-03-01</td>\n",
       "      <td>Tablet</td>\n",
       "      <td>Mobile</td>\n",
       "      <td>8.0</td>\n",
       "      <td>299.99</td>\n",
       "    </tr>\n",
       "    <tr>\n",
       "      <th>3</th>\n",
       "      <td>2024-03-01</td>\n",
       "      <td>Headphones</td>\n",
       "      <td>Accessories</td>\n",
       "      <td>15.0</td>\n",
       "      <td>49.99</td>\n",
       "    </tr>\n",
       "    <tr>\n",
       "      <th>4</th>\n",
       "      <td>2024-03-01</td>\n",
       "      <td>Smartwatch</td>\n",
       "      <td>Wearable</td>\n",
       "      <td>7.0</td>\n",
       "      <td>199.99</td>\n",
       "    </tr>\n",
       "    <tr>\n",
       "      <th>...</th>\n",
       "      <td>...</td>\n",
       "      <td>...</td>\n",
       "      <td>...</td>\n",
       "      <td>...</td>\n",
       "      <td>...</td>\n",
       "    </tr>\n",
       "    <tr>\n",
       "      <th>232</th>\n",
       "      <td>2024-03-31</td>\n",
       "      <td>Camera</td>\n",
       "      <td>Photography</td>\n",
       "      <td>3.0</td>\n",
       "      <td>399.99</td>\n",
       "    </tr>\n",
       "    <tr>\n",
       "      <th>233</th>\n",
       "      <td>2024-03-31</td>\n",
       "      <td>Monitor</td>\n",
       "      <td>Computers</td>\n",
       "      <td>4.0</td>\n",
       "      <td>199.99</td>\n",
       "    </tr>\n",
       "    <tr>\n",
       "      <th>234</th>\n",
       "      <td>2024-03-31</td>\n",
       "      <td>Keyboard</td>\n",
       "      <td>Accessories</td>\n",
       "      <td>10.0</td>\n",
       "      <td>29.99</td>\n",
       "    </tr>\n",
       "    <tr>\n",
       "      <th>235</th>\n",
       "      <td>2024-03-31</td>\n",
       "      <td>Mouse</td>\n",
       "      <td>Accessories</td>\n",
       "      <td>12.0</td>\n",
       "      <td>19.99</td>\n",
       "    </tr>\n",
       "    <tr>\n",
       "      <th>236</th>\n",
       "      <td>2024-03-31</td>\n",
       "      <td>Printer</td>\n",
       "      <td>Office</td>\n",
       "      <td>2.0</td>\n",
       "      <td>149.99</td>\n",
       "    </tr>\n",
       "  </tbody>\n",
       "</table>\n",
       "<p>237 rows × 5 columns</p>\n",
       "</div>"
      ],
      "text/plain": [
       "           Date     Product     Category  Quantity   Price\n",
       "0    2024-03-01  Smartphone       Mobile      10.0  599.99\n",
       "1    2024-03-01      Laptop    Computers       5.0  999.99\n",
       "2    2024-03-01      Tablet       Mobile       8.0  299.99\n",
       "3    2024-03-01  Headphones  Accessories      15.0   49.99\n",
       "4    2024-03-01  Smartwatch     Wearable       7.0  199.99\n",
       "..          ...         ...          ...       ...     ...\n",
       "232  2024-03-31      Camera  Photography       3.0  399.99\n",
       "233  2024-03-31     Monitor    Computers       4.0  199.99\n",
       "234  2024-03-31    Keyboard  Accessories      10.0   29.99\n",
       "235  2024-03-31       Mouse  Accessories      12.0   19.99\n",
       "236  2024-03-31     Printer       Office       2.0  149.99\n",
       "\n",
       "[237 rows x 5 columns]"
      ]
     },
     "execution_count": 21,
     "metadata": {},
     "output_type": "execute_result"
    }
   ],
   "source": [
    "df = pd.read_csv('dados_vendas.csv')\n",
    "df"
   ]
  },
  {
   "cell_type": "markdown",
   "metadata": {},
   "source": [
    "Limpando dados"
   ]
  },
  {
   "cell_type": "code",
   "execution_count": 22,
   "metadata": {},
   "outputs": [
    {
     "name": "stdout",
     "output_type": "stream",
     "text": [
      "<class 'pandas.core.frame.DataFrame'>\n",
      "RangeIndex: 237 entries, 0 to 236\n",
      "Data columns (total 5 columns):\n",
      " #   Column    Non-Null Count  Dtype  \n",
      "---  ------    --------------  -----  \n",
      " 0   Date      222 non-null    object \n",
      " 1   Product   221 non-null    object \n",
      " 2   Category  221 non-null    object \n",
      " 3   Quantity  221 non-null    float64\n",
      " 4   Price     221 non-null    float64\n",
      "dtypes: float64(2), object(3)\n",
      "memory usage: 9.4+ KB\n"
     ]
    }
   ],
   "source": [
    "df.info()"
   ]
  },
  {
   "cell_type": "code",
   "execution_count": 23,
   "metadata": {},
   "outputs": [
    {
     "data": {
      "text/plain": [
       "Date        15\n",
       "Product     16\n",
       "Category    16\n",
       "Quantity    16\n",
       "Price       16\n",
       "dtype: int64"
      ]
     },
     "execution_count": 23,
     "metadata": {},
     "output_type": "execute_result"
    }
   ],
   "source": [
    "#Contabilizando dados nulos\n",
    "df.isnull().sum()"
   ]
  },
  {
   "cell_type": "code",
   "execution_count": 24,
   "metadata": {},
   "outputs": [
    {
     "data": {
      "text/plain": [
       "Date        0\n",
       "Product     0\n",
       "Category    0\n",
       "Quantity    0\n",
       "Price       0\n",
       "dtype: int64"
      ]
     },
     "execution_count": 24,
     "metadata": {},
     "output_type": "execute_result"
    }
   ],
   "source": [
    "# Retirando dados nulos\n",
    "df_limpo = df.dropna()\n",
    "# Retirando dados duplicados\n",
    "df_limpo = df_limpo.drop_duplicates()\n",
    "df_limpo.isnull().sum()"
   ]
  },
  {
   "cell_type": "code",
   "execution_count": 25,
   "metadata": {},
   "outputs": [
    {
     "data": {
      "text/html": [
       "<div>\n",
       "<style scoped>\n",
       "    .dataframe tbody tr th:only-of-type {\n",
       "        vertical-align: middle;\n",
       "    }\n",
       "\n",
       "    .dataframe tbody tr th {\n",
       "        vertical-align: top;\n",
       "    }\n",
       "\n",
       "    .dataframe thead th {\n",
       "        text-align: right;\n",
       "    }\n",
       "</style>\n",
       "<table border=\"1\" class=\"dataframe\">\n",
       "  <thead>\n",
       "    <tr style=\"text-align: right;\">\n",
       "      <th></th>\n",
       "      <th>Date</th>\n",
       "      <th>Product</th>\n",
       "      <th>Category</th>\n",
       "      <th>Quantity</th>\n",
       "      <th>Price</th>\n",
       "    </tr>\n",
       "  </thead>\n",
       "  <tbody>\n",
       "    <tr>\n",
       "      <th>0</th>\n",
       "      <td>2024-03-01</td>\n",
       "      <td>Smartphone</td>\n",
       "      <td>Mobile</td>\n",
       "      <td>10.0</td>\n",
       "      <td>599.99</td>\n",
       "    </tr>\n",
       "    <tr>\n",
       "      <th>1</th>\n",
       "      <td>2024-03-01</td>\n",
       "      <td>Laptop</td>\n",
       "      <td>Computers</td>\n",
       "      <td>5.0</td>\n",
       "      <td>999.99</td>\n",
       "    </tr>\n",
       "    <tr>\n",
       "      <th>2</th>\n",
       "      <td>2024-03-01</td>\n",
       "      <td>Tablet</td>\n",
       "      <td>Mobile</td>\n",
       "      <td>8.0</td>\n",
       "      <td>299.99</td>\n",
       "    </tr>\n",
       "    <tr>\n",
       "      <th>3</th>\n",
       "      <td>2024-03-01</td>\n",
       "      <td>Headphones</td>\n",
       "      <td>Accessories</td>\n",
       "      <td>15.0</td>\n",
       "      <td>49.99</td>\n",
       "    </tr>\n",
       "    <tr>\n",
       "      <th>4</th>\n",
       "      <td>2024-03-01</td>\n",
       "      <td>Smartwatch</td>\n",
       "      <td>Wearable</td>\n",
       "      <td>7.0</td>\n",
       "      <td>199.99</td>\n",
       "    </tr>\n",
       "    <tr>\n",
       "      <th>...</th>\n",
       "      <td>...</td>\n",
       "      <td>...</td>\n",
       "      <td>...</td>\n",
       "      <td>...</td>\n",
       "      <td>...</td>\n",
       "    </tr>\n",
       "    <tr>\n",
       "      <th>232</th>\n",
       "      <td>2024-03-31</td>\n",
       "      <td>Camera</td>\n",
       "      <td>Photography</td>\n",
       "      <td>3.0</td>\n",
       "      <td>399.99</td>\n",
       "    </tr>\n",
       "    <tr>\n",
       "      <th>233</th>\n",
       "      <td>2024-03-31</td>\n",
       "      <td>Monitor</td>\n",
       "      <td>Computers</td>\n",
       "      <td>4.0</td>\n",
       "      <td>199.99</td>\n",
       "    </tr>\n",
       "    <tr>\n",
       "      <th>234</th>\n",
       "      <td>2024-03-31</td>\n",
       "      <td>Keyboard</td>\n",
       "      <td>Accessories</td>\n",
       "      <td>10.0</td>\n",
       "      <td>29.99</td>\n",
       "    </tr>\n",
       "    <tr>\n",
       "      <th>235</th>\n",
       "      <td>2024-03-31</td>\n",
       "      <td>Mouse</td>\n",
       "      <td>Accessories</td>\n",
       "      <td>12.0</td>\n",
       "      <td>19.99</td>\n",
       "    </tr>\n",
       "    <tr>\n",
       "      <th>236</th>\n",
       "      <td>2024-03-31</td>\n",
       "      <td>Printer</td>\n",
       "      <td>Office</td>\n",
       "      <td>2.0</td>\n",
       "      <td>149.99</td>\n",
       "    </tr>\n",
       "  </tbody>\n",
       "</table>\n",
       "<p>220 rows × 5 columns</p>\n",
       "</div>"
      ],
      "text/plain": [
       "           Date     Product     Category  Quantity   Price\n",
       "0    2024-03-01  Smartphone       Mobile      10.0  599.99\n",
       "1    2024-03-01      Laptop    Computers       5.0  999.99\n",
       "2    2024-03-01      Tablet       Mobile       8.0  299.99\n",
       "3    2024-03-01  Headphones  Accessories      15.0   49.99\n",
       "4    2024-03-01  Smartwatch     Wearable       7.0  199.99\n",
       "..          ...         ...          ...       ...     ...\n",
       "232  2024-03-31      Camera  Photography       3.0  399.99\n",
       "233  2024-03-31     Monitor    Computers       4.0  199.99\n",
       "234  2024-03-31    Keyboard  Accessories      10.0   29.99\n",
       "235  2024-03-31       Mouse  Accessories      12.0   19.99\n",
       "236  2024-03-31     Printer       Office       2.0  149.99\n",
       "\n",
       "[220 rows x 5 columns]"
      ]
     },
     "execution_count": 25,
     "metadata": {},
     "output_type": "execute_result"
    }
   ],
   "source": [
    "#Nova tabela com dados tratados\n",
    "df_limpo"
   ]
  },
  {
   "cell_type": "code",
   "execution_count": 26,
   "metadata": {},
   "outputs": [
    {
     "data": {
      "text/plain": [
       "(237, 5)"
      ]
     },
     "execution_count": 26,
     "metadata": {},
     "output_type": "execute_result"
    }
   ],
   "source": [
    "#Comparando as tabelas\n",
    "df.shape"
   ]
  },
  {
   "cell_type": "code",
   "execution_count": 27,
   "metadata": {},
   "outputs": [
    {
     "data": {
      "text/plain": [
       "(220, 5)"
      ]
     },
     "execution_count": 27,
     "metadata": {},
     "output_type": "execute_result"
    }
   ],
   "source": [
    "df_limpo.shape"
   ]
  },
  {
   "cell_type": "code",
   "execution_count": 28,
   "metadata": {},
   "outputs": [],
   "source": [
    "# Converte a coluna 'Quantity' para o tipo inteiro\n",
    "df_limpo['Quantity'] = df_limpo['Quantity'].astype(int)\n"
   ]
  },
  {
   "cell_type": "code",
   "execution_count": 29,
   "metadata": {},
   "outputs": [],
   "source": [
    "# Convertando a coluna Date para tipo data\n",
    "df_limpo['Date'] = pd.to_datetime(df_limpo['Date'])"
   ]
  },
  {
   "cell_type": "code",
   "execution_count": 30,
   "metadata": {},
   "outputs": [
    {
     "name": "stdout",
     "output_type": "stream",
     "text": [
      "Dados salvos com sucesso\n"
     ]
    }
   ],
   "source": [
    "# Salvando dados tratados em um no csv\n",
    "df_limpo.to_csv('vendas_dados_limpo.csv', index = False)\n",
    "print('Dados salvos com sucesso')"
   ]
  },
  {
   "cell_type": "code",
   "execution_count": 31,
   "metadata": {},
   "outputs": [
    {
     "data": {
      "text/plain": [
       "Date        0\n",
       "Product     0\n",
       "Category    0\n",
       "Quantity    0\n",
       "Price       0\n",
       "dtype: int64"
      ]
     },
     "execution_count": 31,
     "metadata": {},
     "output_type": "execute_result"
    }
   ],
   "source": [
    "#Contabilizando dados nulos da nova taabela\n",
    "df_limpo.isnull().sum()"
   ]
  },
  {
   "cell_type": "code",
   "execution_count": 32,
   "metadata": {},
   "outputs": [
    {
     "name": "stdout",
     "output_type": "stream",
     "text": [
      "<class 'pandas.core.frame.DataFrame'>\n",
      "Index: 220 entries, 0 to 236\n",
      "Data columns (total 5 columns):\n",
      " #   Column    Non-Null Count  Dtype         \n",
      "---  ------    --------------  -----         \n",
      " 0   Date      220 non-null    datetime64[ns]\n",
      " 1   Product   220 non-null    object        \n",
      " 2   Category  220 non-null    object        \n",
      " 3   Quantity  220 non-null    int32         \n",
      " 4   Price     220 non-null    float64       \n",
      "dtypes: datetime64[ns](1), float64(1), int32(1), object(2)\n",
      "memory usage: 9.5+ KB\n"
     ]
    }
   ],
   "source": [
    "df_limpo.info()"
   ]
  },
  {
   "cell_type": "markdown",
   "metadata": {},
   "source": [
    "Receita total por categoria de produto"
   ]
  },
  {
   "cell_type": "code",
   "execution_count": 33,
   "metadata": {},
   "outputs": [
    {
     "data": {
      "text/plain": [
       "Category\n",
       "Computers      26399.56\n",
       "Mobile         19799.56\n",
       "Photography     8799.78\n",
       "Wearable        4399.78\n",
       "Office          3299.78\n",
       "Accessories     2199.34\n",
       "Name: Price, dtype: float64"
      ]
     },
     "execution_count": 33,
     "metadata": {},
     "output_type": "execute_result"
    }
   ],
   "source": [
    "total_vendas_por_categoria = df_limpo.groupby('Category')['Price'].sum().sort_values(ascending=False)\n",
    "total_vendas_por_categoria"
   ]
  },
  {
   "cell_type": "markdown",
   "metadata": {},
   "source": [
    "Produto mais vendido e menos vendido"
   ]
  },
  {
   "cell_type": "code",
   "execution_count": 34,
   "metadata": {},
   "outputs": [
    {
     "data": {
      "text/plain": [
       "Product\n",
       "Headphones    321\n",
       "Mouse         255\n",
       "Keyboard      211\n",
       "Smartphone    211\n",
       "Tablet        176\n",
       "Smartwatch    145\n",
       "Laptop        119\n",
       "Monitor        97\n",
       "Camera         57\n",
       "Printer        35\n",
       "Name: Quantity, dtype: int32"
      ]
     },
     "execution_count": 34,
     "metadata": {},
     "output_type": "execute_result"
    }
   ],
   "source": [
    "# Somando a quantidade de produtos vendidos\n",
    "quantidades_vendas = df_limpo.groupby('Product')['Quantity'].sum().sort_values(ascending=False)\n",
    "quantidades_vendas"
   ]
  },
  {
   "cell_type": "code",
   "execution_count": 35,
   "metadata": {},
   "outputs": [
    {
     "name": "stdout",
     "output_type": "stream",
     "text": [
      "O produto mais vendido foi: Headphones com 321 de itens vendidos!\n"
     ]
    }
   ],
   "source": [
    "#Trazendo produto e quantos foram vendidos\n",
    "produto_mais_vendido = quantidades_vendas.idxmax()\n",
    "quantidade_mais_vendida = quantidades_vendas.max()\n",
    "print(f'O produto mais vendido foi: {produto_mais_vendido} com {int(quantidade_mais_vendida)} de itens vendidos!')"
   ]
  },
  {
   "cell_type": "code",
   "execution_count": 36,
   "metadata": {},
   "outputs": [
    {
     "name": "stdout",
     "output_type": "stream",
     "text": [
      "O produto menos vendido foi: Printer com 35 de itens vendidos!\n"
     ]
    }
   ],
   "source": [
    "#Trazendo produto e quantos foram vendidos\n",
    "produto_menos_vendido = quantidades_vendas.idxmin()\n",
    "quantidade_menos_vendida = quantidades_vendas.min()\n",
    "print(f'O produto menos vendido foi: {produto_menos_vendido} com {int(quantidade_menos_vendida)} de itens vendidos!')"
   ]
  },
  {
   "cell_type": "markdown",
   "metadata": {},
   "source": [
    "Analisando a variação de vendas ao longo do tempo (por mês e trimestre).\n"
   ]
  },
  {
   "cell_type": "code",
   "execution_count": 39,
   "metadata": {},
   "outputs": [],
   "source": [
    "#Concatenando arquivos csv para gerar um novo DataFrame\n",
    "caminho = r'C:\\Users\\55859\\OneDrive\\Área de Trabalho\\projetos\\projeto vendas\\arquivos das vendas\\*.csv'\n",
    "\n",
    "# Encontrar todos os arquivos CSV usando GLOB\n",
    "arquivos_csv = glob.glob(caminho)\n",
    "\n",
    "# Carregar os arquivos e adicionar na lista \n",
    "df_list = []  # Lista para armazenar os DataFrames\n",
    "for arquivo in arquivos_csv:\n",
    "    df = pd.read_csv(arquivo)  # Lê cada arquivo CSV\n",
    "    df_list.append(df)\n",
    "\n",
    "    # Concatenar todos os DataFrames em um único DataFrame\n",
    "df_concatenados = pd.concat(df_list, ignore_index=True)\n",
    "\n"
   ]
  },
  {
   "cell_type": "code",
   "execution_count": 40,
   "metadata": {},
   "outputs": [
    {
     "name": "stdout",
     "output_type": "stream",
     "text": [
      "         Date     Product     Category  Quantity   Price\n",
      "0  2023-04-01  Smartphone       Mobile       3.0  599.99\n",
      "1  2023-04-01      Laptop    Computers       3.0  999.99\n",
      "2  2023-04-01      Tablet       Mobile       3.0  299.99\n",
      "3  2023-04-01  Headphones  Accessories       3.0   49.99\n",
      "4  2023-04-01  Smartwatch     Wearable       9.0  199.99\n"
     ]
    }
   ],
   "source": [
    "# Exibir as primeiras linhas do DataFrame concatenado\n",
    "print(df_concatenados.head())"
   ]
  },
  {
   "cell_type": "code",
   "execution_count": 41,
   "metadata": {},
   "outputs": [
    {
     "data": {
      "text/plain": [
       "(4487, 5)"
      ]
     },
     "execution_count": 41,
     "metadata": {},
     "output_type": "execute_result"
    }
   ],
   "source": [
    "#Exibindo dados do novo DataFrame\n",
    "df_concatenados.shape"
   ]
  },
  {
   "cell_type": "code",
   "execution_count": 42,
   "metadata": {},
   "outputs": [
    {
     "name": "stdout",
     "output_type": "stream",
     "text": [
      "Dados tratados com sucesso\n"
     ]
    }
   ],
   "source": [
    "# Tratando o novo DataFrame\n",
    "df_concatenados['Date'] = pd.to_datetime(df_concatenados['Date'], errors='coerce')\n",
    "df_concatenados.dropna(subset=['Date'], inplace=True)\n",
    "df_concatenados.dropna(subset=['Quantity'], inplace=True)\n",
    "df_concatenados['Quantity'] = df_concatenados['Quantity'].astype(int)\n",
    "print('Dados tratados com sucesso')"
   ]
  },
  {
   "cell_type": "code",
   "execution_count": 43,
   "metadata": {},
   "outputs": [],
   "source": [
    "# Calcular o total de vendas\n",
    "df_concatenados['Total_Vendas'] = df_concatenados['Quantity'] * df_concatenados['Price']"
   ]
  },
  {
   "cell_type": "code",
   "execution_count": 44,
   "metadata": {},
   "outputs": [
    {
     "data": {
      "text/plain": [
       "Date\n",
       "2023-01-31    511392.79\n",
       "2023-02-28    456804.65\n",
       "2023-03-31    494182.99\n",
       "2023-04-30    514643.08\n",
       "2023-05-31    545392.84\n",
       "2023-06-30    502483.38\n",
       "2023-07-31    518182.38\n",
       "2023-08-31    514883.07\n",
       "2023-09-30    498343.18\n",
       "2023-10-31    513883.58\n",
       "2023-11-30    551677.20\n",
       "2023-12-31    570066.44\n",
       "2024-01-31    570066.44\n",
       "2024-02-29    533287.96\n",
       "2024-03-31    408313.63\n",
       "Freq: M, Name: Total_Vendas, dtype: float64"
      ]
     },
     "execution_count": 44,
     "metadata": {},
     "output_type": "execute_result"
    }
   ],
   "source": [
    "# Agrupar por mês e calcular a soma das vendas\n",
    "vendas_mensais = df_concatenados.resample('M', on='Date')['Total_Vendas'].sum()\n",
    "vendas_mensais"
   ]
  },
  {
   "cell_type": "code",
   "execution_count": 45,
   "metadata": {},
   "outputs": [
    {
     "data": {
      "image/png": "[encoded data removed]",
      "text/plain": [
       "<Figure size 640x480 with 1 Axes>"
      ]
     },
     "metadata": {},
     "output_type": "display_data"
    }
   ],
   "source": [
    "# Gráfico de Vendas Mensais\n",
    "plt.subplot(2, 1, 1)\n",
    "plt.plot(vendas_mensais.index, vendas_mensais.values, marker='o', linestyle='-')\n",
    "plt.title('Vendas Mensais')\n",
    "plt.xlabel('Mês')\n",
    "plt.ylabel('Total de Vendas')\n",
    "plt.xticks(rotation=45)\n",
    "plt.tight_layout()\n",
    "plt.show()"
   ]
  },
  {
   "cell_type": "code",
   "execution_count": 46,
   "metadata": {},
   "outputs": [],
   "source": [
    "# Agrupar por trimestre e calcular a soma das vendas\n",
    "vendas_trimestrais = df_concatenados.resample('Q', on='Date')['Total_Vendas'].sum()"
   ]
  },
  {
   "cell_type": "code",
   "execution_count": 47,
   "metadata": {},
   "outputs": [
    {
     "data": {
      "image/png": "[encoded data removed]",
      "text/plain": [
       "<Figure size 640x480 with 1 Axes>"
      ]
     },
     "metadata": {},
     "output_type": "display_data"
    }
   ],
   "source": [
    "# Gráfico de Vendas Trimestrais\n",
    "plt.subplot(2, 1, 2)\n",
    "plt.plot(vendas_trimestrais.index, vendas_trimestrais.values, marker='o', color='orange', linestyle='-')\n",
    "plt.title('Vendas Trimestrais')\n",
    "plt.xlabel('Trimestre')\n",
    "plt.ylabel('Total de Vendas')\n",
    "plt.xticks(rotation=45)\n",
    "\n",
    "plt.tight_layout()\n",
    "plt.show()"
   ]
  },
  {
   "cell_type": "markdown",
   "metadata": {},
   "source": [
    "A receita total por categoria"
   ]
  },
  {
   "cell_type": "code",
   "execution_count": 48,
   "metadata": {},
   "outputs": [],
   "source": [
    "df_limpo['Total_Vendas'] = df_limpo['Quantity'] * df_limpo['Price']"
   ]
  },
  {
   "cell_type": "code",
   "execution_count": 50,
   "metadata": {},
   "outputs": [],
   "source": [
    "# Agrupar os dados por categoria e somar as vendas totais\n",
    "categoria_vendas = df_limpo.groupby('Category')['Total_Vendas'].sum().sort_values(ascending=False)"
   ]
  },
  {
   "cell_type": "code",
   "execution_count": 51,
   "metadata": {},
   "outputs": [
    {
     "data": {
      "image/png": "[encoded data removed]",
      "text/plain": [
       "<Figure size 1200x600 with 1 Axes>"
      ]
     },
     "metadata": {},
     "output_type": "display_data"
    }
   ],
   "source": [
    "# Criar o gráfico de barras\n",
    "plt.figure(figsize=(12, 6))\n",
    "bars = plt.bar(categoria_vendas.index, categoria_vendas.values)\n",
    "# Personalizar o gráfico\n",
    "plt.title('Receita Total por Categoria', fontsize=16)\n",
    "plt.xlabel('Categoria', fontsize=12)\n",
    "plt.ylabel('Receita Total', fontsize=12)\n",
    "plt.xticks(rotation=45, ha='right')\n",
    "\n",
    "# Adicionar rótulos de valor no topo de cada barra\n",
    "for bar in bars:\n",
    "    height = bar.get_height()\n",
    "    plt.text(bar.get_x() + bar.get_width()/2., height,\n",
    "             f'${height:,.0f}',\n",
    "             ha='center', va='bottom', rotation=0)\n",
    "\n",
    "# Ajustar o layout\n",
    "plt.tight_layout()\n",
    "plt.show()"
   ]
  },
  {
   "cell_type": "markdown",
   "metadata": {},
   "source": [
    "A quantidade de vendas por produto"
   ]
  },
  {
   "cell_type": "code",
   "execution_count": 52,
   "metadata": {},
   "outputs": [],
   "source": [
    "# Agrupar os dados por produto e somar as quantidades\n",
    "produto_vendas = df_limpo.groupby('Product')['Quantity'].sum().sort_values(ascending=False)"
   ]
  },
  {
   "cell_type": "code",
   "execution_count": 53,
   "metadata": {},
   "outputs": [
    {
     "data": {
      "image/png": "[encoded data removed]",
      "text/plain": [
       "<Figure size 2000x1000 with 1 Axes>"
      ]
     },
     "metadata": {},
     "output_type": "display_data"
    }
   ],
   "source": [
    "# Criar o gráfico de barras\n",
    "plt.figure(figsize=(20, 10))  # Aumentei o tamanho da figura para acomodar mais produtos\n",
    "bars = plt.bar(produto_vendas.index, produto_vendas.values)\n",
    "\n",
    "# Personalizar o gráfico\n",
    "plt.title('Quantidade de Vendas por Produto', fontsize=16)\n",
    "plt.xlabel('Produto', fontsize=12)\n",
    "plt.ylabel('Quantidade Vendida', fontsize=12)\n",
    "plt.xticks(rotation=90, ha='right', fontsize=8)  # Rotação aumentada para 90 graus e fonte menor\n",
    "\n",
    "# Adicionar rótulos de valor no topo de cada barra\n",
    "for bar in bars:\n",
    "    height = bar.get_height()\n",
    "    plt.text(bar.get_x() + bar.get_width()/2., height,\n",
    "             f'{height:,.0f}',\n",
    "             ha='center', va='bottom', rotation=90, fontsize=8)  # Rotação e fonte dos rótulos ajustadas\n",
    "\n",
    "# Ajustar o layout\n",
    "plt.tight_layout()\n",
    "plt.show()"
   ]
  },
  {
   "cell_type": "markdown",
   "metadata": {},
   "source": [
    "Insights"
   ]
  },
  {
   "cell_type": "code",
   "execution_count": 54,
   "metadata": {},
   "outputs": [
    {
     "data": {
      "text/plain": [
       "Product\n",
       "Laptop        21999.78\n",
       "Smartphone    13199.78\n",
       "Camera         8799.78\n",
       "Tablet         6599.78\n",
       "Monitor        4399.78\n",
       "Smartwatch     4399.78\n",
       "Printer        3299.78\n",
       "Headphones     1099.78\n",
       "Keyboard        659.78\n",
       "Mouse           439.78\n",
       "Name: Price, dtype: float64"
      ]
     },
     "execution_count": 54,
     "metadata": {},
     "output_type": "execute_result"
    }
   ],
   "source": [
    "#Mais alguns dados para uma visão mais ampla dos Insights\n",
    "produto_maior_valor_vendas = df_limpo.groupby('Product')['Price'].sum().sort_values(ascending=False)\n",
    "produto_maior_valor_vendas"
   ]
  },
  {
   "cell_type": "markdown",
   "metadata": {},
   "source": [
    "# Insights de Vendas\n",
    "\n",
    "## 1. Expansão de Produtos Populares (Headphones)\n",
    "- **Insight**: O alto volume de vendas dos headphones indica uma forte demanda. Expandir a linha com novos modelos e preços pode capturar diferentes segmentos de clientes.\n",
    "- **Ação**: Introduza modelos premium e econômicos para aumentar as opções e potencializar as vendas cruzadas com outros produtos eletrônicos.\n",
    "\n",
    "---\n",
    "\n",
    "## 2. Revisão de Produtos de Baixo Desempenho (Printers)\n",
    "- **Insight**: Impressoras têm baixo volume de vendas e podem não ser relevantes para o portfólio.\n",
    "- **Ação**: Avalie descontinuar as impressoras ou focar em nichos específicos, como modelos especializados que complementem outros produtos mais populares.\n",
    "\n",
    "---\n",
    "\n",
    "## 3. Estratégia de Vendas Cruzadas e Upselling\n",
    "- **Insight**: Produtos complementares, como smartphones e laptops, podem ser vendidos junto com headphones para aumentar o ticket médio.\n",
    "- **Ação**: Ofereça pacotes com descontos que combinem headphones e dispositivos de maior valor, incentivando vendas cruzadas.\n",
    "\n",
    "---\n",
    "\n",
    "## 4. Otimização de Estoque\n",
    "- **Insight**: O estoque de headphones deve ser ajustado para refletir a alta demanda, enquanto o estoque de impressoras pode ser reduzido.\n",
    "- **Ação**: Implementar um sistema de reabastecimento automático para headphones e reduzir o estoque de impressoras para evitar sobrecarga.\n",
    "\n",
    "---\n",
    "\n",
    "## 5. Análise de Margens de Lucro\n",
    "- **Insight**: Produtos como headphones vendem em grande volume, mas com menor valor unitário, enquanto laptops e smartphones podem ter margens maiores.\n",
    "- **Ação**: Avalie a margem de lucro dos headphones e explore oportunidades de aumento, como a venda de acessórios complementares.\n",
    "\n",
    "---\n",
    "\n",
    "## 6. Campanhas Focadas em Produtos de Alto Valor\n",
    "- **Insight**: Laptops e smartphones geram grande parte da receita, sugerindo que devem ser o foco das campanhas de marketing.\n",
    "- **Ação**: Invista em campanhas que promovam esses produtos de alto valor e explore estratégias de upselling com acessórios e serviços adicionais.\n",
    "\n",
    "---\n",
    "\n",
    "## 7. Destaque para Produtos Complementares\n",
    "- **Insight**: Headphones, mouses e teclados são complementares a dispositivos de maior valor, como laptops e desktops.\n",
    "- **Ação**: Crie pacotes promocionais ou descontos que incentivem a compra conjunta desses produtos, aumentando o valor médio das compras.\n",
    "\n",
    "---\n",
    "\n",
    "## 8. Ajuste de Precificação em Produtos de Baixo Valor\n",
    "- **Insight**: Produtos como headphones têm um volume alto de vendas, e pequenos ajustes no preço podem ter um impacto significativo na receita.\n",
    "- **Ação**: Considere aumentar ligeiramente o preço dos headphones e outros acessórios de baixo valor para maximizar o lucro.\n",
    "\n",
    "---\n",
    "\n",
    "## 9. Análise Sazonal de Vendas\n",
    "- **Insight**: Pode haver tendências sazonais em vendas, especialmente em produtos eletrônicos populares como headphones.\n",
    "- **Ação**: Monitore as flutuações sazonais e ajuste suas\n",
    "\n",
    "---\n",
    "\n",
    "## 10. Expansão do Segmento de Câmeras\n",
    "- **Insight**: As câmeras apresentam boas vendas, sugerindo que há espaço para expansão ou exploração de novos modelos.\n",
    "- **Ação**: Explore novos modelos ou pacotes de câmeras com acessórios para aumentar a receita desse segmento.\n"
   ]
  }
 ],
 "metadata": {
  "kernelspec": {
   "display_name": "Python 3",
   "language": "python",
   "name": "python3"
  },
  "language_info": {
   "codemirror_mode": {
    "name": "ipython",
    "version": 3
   },
   "file_extension": ".py",
   "mimetype": "text/x-python",
   "name": "python",
   "nbconvert_exporter": "python",
   "pygments_lexer": "ipython3",
   "version": "3.10.5"
  }
 },
 "nbformat": 4,
 "nbformat_minor": 2
}
